{
 "cells": [
  {
   "cell_type": "code",
   "execution_count": 1,
   "id": "96608b49",
   "metadata": {},
   "outputs": [],
   "source": [
    "import tensorflow as tf"
   ]
  },
  {
   "cell_type": "code",
   "execution_count": 2,
   "id": "f7be81bd",
   "metadata": {},
   "outputs": [],
   "source": [
    "model = tf.keras.models.load_model(\"./model_cloud/\")"
   ]
  },
  {
   "cell_type": "code",
   "execution_count": 3,
   "id": "427fb983",
   "metadata": {},
   "outputs": [
    {
     "name": "stdout",
     "output_type": "stream",
     "text": [
      "Model: \"sequential\"\n",
      "_________________________________________________________________\n",
      "Layer (type)                 Output Shape              Param #   \n",
      "=================================================================\n",
      "rescaling (Rescaling)        (None, 130, 130, 3)       0         \n",
      "_________________________________________________________________\n",
      "deep_model (Functional)      (None, 4, 4, 512)         14714688  \n",
      "_________________________________________________________________\n",
      "flatten (Flatten)            (None, 8192)              0         \n",
      "_________________________________________________________________\n",
      "dropout (Dropout)            (None, 8192)              0         \n",
      "_________________________________________________________________\n",
      "dense (Dense)                (None, 512)               4194816   \n",
      "_________________________________________________________________\n",
      "dropout_1 (Dropout)          (None, 512)               0         \n",
      "_________________________________________________________________\n",
      "dense_1 (Dense)              (None, 512)               262656    \n",
      "_________________________________________________________________\n",
      "dropout_2 (Dropout)          (None, 512)               0         \n",
      "_________________________________________________________________\n",
      "dense_2 (Dense)              (None, 18)                9234      \n",
      "=================================================================\n",
      "Total params: 19,181,394\n",
      "Trainable params: 19,181,394\n",
      "Non-trainable params: 0\n",
      "_________________________________________________________________\n"
     ]
    }
   ],
   "source": [
    "model.summary()"
   ]
  },
  {
   "cell_type": "code",
   "execution_count": null,
   "id": "7b44c228",
   "metadata": {},
   "outputs": [],
   "source": [
    "activate_this = '/home/ubuntu/delivery_robot_project/venv_delivery/bin/activate_this.py'\n",
    "with open(activate_this) as f:\n",
    "        exec(f.read(), dict(__file__=activate_this))\n",
    "\n",
    "import json\n",
    "import tensorflow as tf\n",
    "import os\n",
    "import numpy as np\n",
    "from datetime import datetime\n",
    "\n",
    "batch_size = 64\n",
    "img_height = 145\n",
    "img_width = 145\n",
    "data_root='/home/ubuntu/delivery_robot_project/static/Images'\n",
    "print(\"datos de entrenamiento\")\n",
    "data_train = tf.keras.preprocessing.image_dataset_from_directory(str(data_root),\n",
    "                                                               validation_split=None,\n",
    "                                                               image_size=(img_height, img_width),\n",
    "                                                               batch_size=batch_size,\n",
    "                                                               label_mode='categorical')\n",
    "\n",
    "#definimos el model_augmentation que transforma las imágenes de entrada\n",
    "model_augmentation = tf.keras.Sequential(name=\"augmentation_model\")\n",
    "model_augmentation.add(tf.keras.layers.experimental.preprocessing.RandomFlip(\"horizontal\"))\n",
    "model_augmentation.add(tf.keras.layers.experimental.preprocessing.RandomRotation(.1, fill_mode=\"constant\"))\n",
    "model_augmentation.add(tf.keras.layers.experimental.preprocessing.RandomZoom(.2, fill_mode=\"constant\"))\n",
    "#mapeamos los datos de entrada\n",
    "map_data_train = data_train.map(lambda x, y: (model_augmentation(x), y))\n",
    "#cargamos el modelo entrenado\n",
    "modelo_entrenado = tf.keras.models.load_model(\"/home/ubuntu/delivery_robot_project/static/models_finalversionmap15.0version145x145\")\n",
    "#entrenamos el modelo\n",
    "hist_model = modelo_entrenado.fit(map_data_train, epochs=10)\n",
    "#guardamos un json que contiene el historial de entrenamiento\n",
    "open(\"/home/ubuntu/delivery_robot_project/static/resultados_entrenamiento.json\", \"w\").write(json.dumps(hist_model.history))\n",
    "#gurdamos el modelo entrenado\n",
    "#por ahora no sobreescribimos el modelo, lo guardamos con el mes y el dia\n",
    "fecha = datetime.now()\n",
    "modelo_entrenado.save(\"/home/ubuntu/delivery_robot_project/static/modelo_reentrenado_\"+str(fecha.month)+\"_\"+str(fecha.day))\n",
    "#generamos el modelo en formato tensorflowlite a partir del modelo reentrenado\n",
    "converter = tf.lite.TFLiteConverter.from_keras_model(modelo_entrenado)\n",
    "tflite = converter.convert()\n",
    "#guardamos el modelo de tensorflowlite (tambien por mes y dia)\n",
    "open(\"/home/ubuntu/delivery_robot_project/static/model_tflite_\"+str(fecha.month)+\"_\"+str(fecha.day)+\".tflite\", \"wb\").write(tflite)\n"
   ]
  },
  {
   "cell_type": "code",
   "execution_count": null,
   "id": "7fad8bda",
   "metadata": {},
   "outputs": [],
   "source": []
  }
 ],
 "metadata": {
  "kernelspec": {
   "display_name": "Python 3",
   "language": "python",
   "name": "python3"
  },
  "language_info": {
   "codemirror_mode": {
    "name": "ipython",
    "version": 3
   },
   "file_extension": ".py",
   "mimetype": "text/x-python",
   "name": "python",
   "nbconvert_exporter": "python",
   "pygments_lexer": "ipython3",
   "version": "3.8.5"
  }
 },
 "nbformat": 4,
 "nbformat_minor": 5
}
